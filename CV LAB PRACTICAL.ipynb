{
 "cells": [
  {
   "cell_type": "code",
   "execution_count": 0,
   "metadata": {
    "collapsed": false
   },
   "outputs": [
   ],
   "source": [
    "#Ans \n",
    "import cv2\n",
    "import numpy as np\n",
    "img = cv2.imread(\"/content/DSCN1873.JPG\")\n",
    "\n",
    "gray = cv2.cvtColor(img, cv2.COLOR_BGR2GRAY)\n",
    "\n",
    "cv2.imshow(\"Grayscale\",gray[::2,::2])\n",
    "cv2.waitKey(0)\n",
    "cv2.destroyAllWindows()\n"
   ]
  },
  {
   "cell_type": "code",
   "execution_count": 0,
   "metadata": {
    "collapsed": false
   },
   "outputs": [
   ],
   "source": [
    "import cv2\n",
    "import numpy as np\n",
    "img = cv2.imread(\"/content/DSCN1873.JPG\")\n",
    "cv2.imshow('Black & White', b_w[::2,::2])\n",
    "cv2.waitKey(0)\n",
    "cv2.destroyAllWindows()"
   ]
  },
  {
   "cell_type": "code",
   "execution_count": 0,
   "metadata": {
    "collapsed": false
   },
   "outputs": [
   ],
   "source": [
    "import cv2\n",
    "import numpy as np\n",
    "img = cv2.imread(\"/content/DSCN1873.JPG\")\n",
    "blue = cv2.cvtColor(img, cv2.COLOR_RGB2BGR)\n",
    "b_w = cv2.threshold(gray, no, 255, cv2.THRESH_BINARY)\n",
    "cv2.imshow(\"Bluescale\",blue[::2,::2])\n",
    "cv2.waitKey(0)\n",
    "cv2.destroyAllWindows()"
   ]
  },
  {
   "cell_type": "code",
   "execution_count": 0,
   "metadata": {
    "collapsed": false
   },
   "outputs": [
   ],
   "source": [
    "import numpy as np\n",
    "import cv2\n",
    "face_cascade = cv2.CascadeClassifier('/content/haarcascade_frontalface_alt.xml')\n",
    "\n",
    "image = cv2.imread('/content/DSCN1873.JPG')\n",
    "grayImage = cv2.cvtColor(image, cv2.COLOR_BGR2GRAY)\n",
    "\n",
    "faces = face_cascade.detectMultiScale(grayImage)\n",
    "\n",
    "print(type(faces))\n",
    "\n",
    "if len(faces) == 0:\n",
    "    print(\"No faces found\")\n",
    "\n",
    "else:\n",
    "    print(faces)\n",
    "    print(faces.shape)\n",
    "    print(\"Number of faces detected: \" + str(faces.shape[0]))\n",
    "\n",
    "    for (x,y,w,h) in faces:\n",
    "        cv2.rectangle(image,(x,y),(x+w,y+h),(0,255,0),1)\n",
    "\n",
    "    cv2.rectangle(image, ((0,image.shape[0] -25)),(270, image.shape[0]), (255,255,255), -1)\n",
    "    cv2.putText(image, \"Number of faces detected: \" + str(faces.shape[0]), (0,image.shape[0] -10), cv2.FONT_HERSHEY_TRIPLEX, 0.5,  (0,0,0), 1)\n",
    "\n",
    "    cv2.imshow('Image with faces',image)\n",
    "    cv2.waitKey(0)\n",
    "    cv2.destroyAllWindows()\n"
   ]
  },
  {
   "cell_type": "code",
   "execution_count": 0,
   "metadata": {
    "collapsed": false
   },
   "outputs": [
   ],
   "source": [
    "import cv2\n",
    "\n",
    "img = cv2.imread(\"/content/DSCN1873.JPG\")\n",
    "cv2.imshow(\"Image\",img)\n",
    "\n",
    "img_not = cv2.bitwise_not(img)\n",
    "cv2.imshow(\"Invert\",img_not)\n",
    "cv2.waitKey(0)\n",
    "cv2.destroyAllWindows()"
   ]
  }
 ],
 "metadata": {
  "kernelspec": {
   "display_name": "Python 3 (system-wide)",
   "language": "python",
   "metadata": {
    "cocalc": {
     "description": "Python 3 programming language",
     "priority": 100,
     "url": "https://www.python.org/"
    }
   },
   "name": "python3"
  },
  "language_info": {
   "codemirror_mode": {
    "name": "ipython",
    "version": 3
   },
   "file_extension": ".py",
   "mimetype": "text/x-python",
   "name": "python",
   "nbconvert_exporter": "python",
   "pygments_lexer": "ipython3",
   "version": "3.6.9"
  }
 },
 "nbformat": 4,
 "nbformat_minor": 4
}